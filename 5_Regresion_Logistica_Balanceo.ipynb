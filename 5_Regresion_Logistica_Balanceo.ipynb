{
  "cells": [
    {
      "cell_type": "markdown",
      "metadata": {
        "colab_type": "text",
        "id": "view-in-github"
      },
      "source": [
        "<a href=\"https://colab.research.google.com/github/freddy-7/TI3002C/blob/main/9_Regresion_Logistica.ipynb\" target=\"_parent\"><img src=\"https://colab.research.google.com/assets/colab-badge.svg\" alt=\"Open In Colab\"/></a>"
      ]
    },
    {
      "cell_type": "code",
      "execution_count": 1,
      "metadata": {
        "id": "38EWRjuebp99"
      },
      "outputs": [],
      "source": [
        "#Cargamos librerias\n",
        "import pandas as pd\n",
        "import numpy as np\n",
        "import matplotlib.pyplot as plt\n",
        "import scipy.special as special\n",
        "from scipy.optimize import curve_fit\n",
        "import seaborn as sns\n",
        "from sklearn.metrics import r2_score\n",
        "from sklearn.model_selection import train_test_split\n",
        "from sklearn.preprocessing import StandardScaler"
      ]
    },
    {
      "cell_type": "code",
      "execution_count": null,
      "metadata": {
        "id": "dUTL3f-ucVrR"
      },
      "outputs": [],
      "source": [
        "#Cargar archivo csv\n",
        "df= pd.read_csv(\"DataAnalytics.csv\")\n",
        "df.head()"
      ]
    },
    {
      "cell_type": "code",
      "execution_count": null,
      "metadata": {
        "id": "_uuDD5trcYoO"
      },
      "outputs": [],
      "source": [
        "#Rellenamos nulos\n",
        "df =df.fillna(method=\"bfill\")\n",
        "df =df.fillna(method=\"ffill\")\n"
      ]
    },
    {
      "cell_type": "code",
      "execution_count": null,
      "metadata": {},
      "outputs": [],
      "source": [
        "#Analizar categorias de una columna\n",
        "Categorias_Juego = df.groupby(['Juego'])['Juego'].count()\n",
        "Categorias_Juego"
      ]
    },
    {
      "cell_type": "code",
      "execution_count": 5,
      "metadata": {
        "id": "UpTe1UuRcgnE"
      },
      "outputs": [],
      "source": [
        "#Declaramos las variables dependientes e independientes para la regresión Logística\n",
        "Vars_Indep= df[['número de interacción']]\n",
        "Var_Dep= df['Juego']"
      ]
    },
    {
      "cell_type": "code",
      "execution_count": 6,
      "metadata": {
        "id": "wACjx4bAchca"
      },
      "outputs": [],
      "source": [
        "#Redefinimos las variables \n",
        "X= Vars_Indep\n",
        "y= Var_Dep"
      ]
    },
    {
      "cell_type": "code",
      "execution_count": 7,
      "metadata": {
        "id": "0SlqN20_ckc5"
      },
      "outputs": [],
      "source": [
        "#Dividimos el conjunto de datos en la parte de entrenamiento y prueba:\n",
        "X_train, X_test, y_train, y_test = train_test_split(X, y, test_size=0.3, random_state =None)"
      ]
    },
    {
      "cell_type": "code",
      "execution_count": 8,
      "metadata": {
        "id": "MkwSH7-1eZpR"
      },
      "outputs": [],
      "source": [
        "#Se escalan todos los datos\n",
        "escalar = StandardScaler()"
      ]
    },
    {
      "cell_type": "code",
      "execution_count": 9,
      "metadata": {
        "id": "m7G55cbNefKi"
      },
      "outputs": [],
      "source": [
        "#Para realizar el escalamiento de las variables “X” tanto de entrenamiento como de prueba, utilizaremos fit_transform\n",
        "X_train = escalar.fit_transform(X_train)\n",
        "X_test = escalar.transform(X_test)"
      ]
    },
    {
      "cell_type": "code",
      "execution_count": 10,
      "metadata": {
        "id": "9ODFuBepehxE"
      },
      "outputs": [],
      "source": [
        "#Definimos el algoritmo a utilizar\n",
        "from sklearn.linear_model import LogisticRegression\n",
        "algoritmo = LogisticRegression()"
      ]
    },
    {
      "cell_type": "code",
      "execution_count": null,
      "metadata": {
        "colab": {
          "base_uri": "https://localhost:8080/",
          "height": 74
        },
        "id": "TGoNkF8eej4u",
        "outputId": "62b8f1db-c496-492c-b0f2-96688eafc28d"
      },
      "outputs": [],
      "source": [
        "#Entrenamos el modelo\n",
        "algoritmo.fit(X_train, y_train)"
      ]
    },
    {
      "cell_type": "code",
      "execution_count": null,
      "metadata": {
        "id": "RmhkpqPufPtq"
      },
      "outputs": [],
      "source": [
        "#Realizamos una predicción\n",
        "y_pred = algoritmo.predict(X_test) \n",
        "y_pred"
      ]
    },
    {
      "cell_type": "code",
      "execution_count": 13,
      "metadata": {
        "colab": {
          "base_uri": "https://localhost:8080/"
        },
        "id": "HcmoerMWfSgz",
        "outputId": "7da3acbc-b662-481a-bc38-97ea22b4120b"
      },
      "outputs": [
        {
          "name": "stdout",
          "output_type": "stream",
          "text": [
            "Matriz de Confusión:\n",
            "[[1139    0]\n",
            " [ 621    0]]\n"
          ]
        }
      ],
      "source": [
        "#Verifico la matriz de Confusión\n",
        "from sklearn.metrics import confusion_matrix\n",
        "matriz = confusion_matrix(y_test, y_pred)\n",
        "print('Matriz de Confusión:')\n",
        "print(matriz)"
      ]
    },
    {
      "cell_type": "code",
      "execution_count": null,
      "metadata": {
        "colab": {
          "base_uri": "https://localhost:8080/"
        },
        "id": "EZLYhQv9ffsZ",
        "outputId": "2775444d-1f00-4371-8433-a5bf75e26113"
      },
      "outputs": [],
      "source": [
        "#Calculo la precisión del modelo\n",
        "from sklearn.metrics import precision_score\n",
        "\n",
        "precision = precision_score(y_test, y_pred, average=\"binary\", pos_label=\"Astro\")\n",
        "print('Precisión del modelo:')\n",
        "print(precision)"
      ]
    },
    {
      "cell_type": "code",
      "execution_count": null,
      "metadata": {
        "colab": {
          "base_uri": "https://localhost:8080/"
        },
        "id": "JuQmoNf8gPHT",
        "outputId": "362da694-2ed2-4416-aecd-a34c6843946b"
      },
      "outputs": [],
      "source": [
        "#Calculo la exactitud del modelo\n",
        "from sklearn.metrics import accuracy_score\n",
        "\n",
        "exactitud = accuracy_score(y_test, y_pred)\n",
        "print('Exactitud del modelo:')\n",
        "print(exactitud)"
      ]
    },
    {
      "cell_type": "code",
      "execution_count": 19,
      "metadata": {
        "colab": {
          "base_uri": "https://localhost:8080/"
        },
        "id": "2ROKMocYgRNb",
        "outputId": "b9cfe0a3-7b49-436c-e90e-4f69f90024e4"
      },
      "outputs": [
        {
          "name": "stdout",
          "output_type": "stream",
          "text": [
            "Sensibilidad del modelo:\n",
            "0.0\n"
          ]
        }
      ],
      "source": [
        "#Calculo la sensibilidad del modelo\n",
        "from sklearn.metrics import recall_score\n",
        "\n",
        "sensibilidad = recall_score(y_test, y_pred, average=\"binary\", pos_label=\"Cadetes\")\n",
        "print('Sensibilidad del modelo:')\n",
        "print(sensibilidad)"
      ]
    },
    {
      "cell_type": "code",
      "execution_count": 39,
      "metadata": {
        "colab": {
          "base_uri": "https://localhost:8080/"
        },
        "id": "dpVw7tZ1gUja",
        "outputId": "bf6f3b49-3e02-40a9-e7cc-22e4d9d73e9c"
      },
      "outputs": [
        {
          "name": "stdout",
          "output_type": "stream",
          "text": [
            "Puntaje F1 del modelo:\n",
            "0.7874612469858767\n"
          ]
        }
      ],
      "source": [
        "# el puntaje F1 que es una combinación entre la precisión y la sensibilidad, para esto importamos f1_score.\n",
        "#Calculo el Puntaje F1 del modelo\n",
        "from sklearn.metrics import f1_score\n",
        "\n",
        "puntajef1 = f1_score(y_test, y_pred, average=\"binary\", pos_label=\"Astro\")\n",
        "print('Puntaje F1 del modelo:')\n",
        "print(puntajef1)"
      ]
    },
    {
      "cell_type": "markdown",
      "metadata": {},
      "source": [
        "***Método 1 Reponderación de las Clases***"
      ]
    },
    {
      "cell_type": "code",
      "execution_count": null,
      "metadata": {},
      "outputs": [],
      "source": [
        "#Reponderación de las clases\n",
        "algoritmo_Pond = LogisticRegression(class_weight='balanced')\n",
        "algoritmo_Pond.fit(X_train, y_train)"
      ]
    },
    {
      "cell_type": "code",
      "execution_count": null,
      "metadata": {},
      "outputs": [],
      "source": [
        "#Realizamos una predicción\n",
        "y_pred_pond = algoritmo_Pond.predict(X_test) \n",
        "y_pred_pond"
      ]
    },
    {
      "cell_type": "code",
      "execution_count": 22,
      "metadata": {},
      "outputs": [
        {
          "name": "stdout",
          "output_type": "stream",
          "text": [
            "Matriz de Confusión:\n",
            "[[386 753]\n",
            " [139 482]]\n"
          ]
        }
      ],
      "source": [
        "#Verifico la matriz de Confusión\n",
        "from sklearn.metrics import confusion_matrix\n",
        "matriz = confusion_matrix(y_test, y_pred_pond)\n",
        "print('Matriz de Confusión:')\n",
        "print(matriz)"
      ]
    },
    {
      "cell_type": "code",
      "execution_count": null,
      "metadata": {},
      "outputs": [],
      "source": [
        "#Calculo la precisión del modelo\n",
        "from sklearn.metrics import precision_score\n",
        "\n",
        "precision = precision_score(y_test, y_pred_pond, average=\"binary\", pos_label=\"Cadetes\")\n",
        "print('Precisión del modelo:')\n",
        "print(precision)"
      ]
    },
    {
      "cell_type": "code",
      "execution_count": 25,
      "metadata": {},
      "outputs": [
        {
          "name": "stdout",
          "output_type": "stream",
          "text": [
            "Exactitud del modelo:\n",
            "0.49318181818181817\n"
          ]
        }
      ],
      "source": [
        "#Calculo la exactitud del modelo\n",
        "from sklearn.metrics import accuracy_score\n",
        "\n",
        "exactitud = accuracy_score(y_test, y_pred_pond)\n",
        "print('Exactitud del modelo:')\n",
        "print(exactitud)"
      ]
    },
    {
      "cell_type": "code",
      "execution_count": null,
      "metadata": {},
      "outputs": [
        {
          "name": "stdout",
          "output_type": "stream",
          "text": [
            "Sensibilidad del modelo:\n",
            "0.7860615883306321\n"
          ]
        }
      ],
      "source": [
        "#Calculo la sensibilidad del modelo\n",
        "from sklearn.metrics import recall_score\n",
        "\n",
        "sensibilidad = recall_score(y_test, y_pred_pond, average=\"binary\", pos_label=\"Astro\")\n",
        "print('Sensibilidad del modelo:')\n",
        "print(sensibilidad)"
      ]
    },
    {
      "cell_type": "markdown",
      "metadata": {},
      "source": [
        "***Método 2 Submuestreo o Sobremuestreo***"
      ]
    },
    {
      "cell_type": "code",
      "execution_count": null,
      "metadata": {},
      "outputs": [],
      "source": [
        "pip install imblearn"
      ]
    },
    {
      "cell_type": "code",
      "execution_count": 27,
      "metadata": {},
      "outputs": [],
      "source": [
        "#Aplicamos la técnica de sobremuestreo (oversampling)\n",
        "from imblearn.over_sampling import SMOTE\n",
        "\n",
        "smote = SMOTE()\n",
        "X_resampled, y_resampled = smote.fit_resample(X_train, y_train)"
      ]
    },
    {
      "cell_type": "code",
      "execution_count": null,
      "metadata": {},
      "outputs": [],
      "source": [
        "#Entrenamos el modelo sobremuestreado\n",
        "algoritmo_Over_sampling = LogisticRegression()\n",
        "algoritmo_Over_sampling.fit(X_resampled, y_resampled)"
      ]
    },
    {
      "cell_type": "code",
      "execution_count": null,
      "metadata": {},
      "outputs": [],
      "source": [
        "#Realizamos una predicción\n",
        "y_pred_over_sampling = algoritmo_Over_sampling.predict(X_test) \n",
        "y_pred_over_sampling"
      ]
    },
    {
      "cell_type": "code",
      "execution_count": 31,
      "metadata": {},
      "outputs": [
        {
          "name": "stdout",
          "output_type": "stream",
          "text": [
            "Matriz de Confusión:\n",
            "[[386 753]\n",
            " [139 482]]\n"
          ]
        }
      ],
      "source": [
        "#Verifico la matriz de Confusión\n",
        "from sklearn.metrics import confusion_matrix\n",
        "matriz = confusion_matrix(y_test, y_pred_over_sampling)\n",
        "print('Matriz de Confusión:')\n",
        "print(matriz)"
      ]
    },
    {
      "cell_type": "code",
      "execution_count": 58,
      "metadata": {},
      "outputs": [
        {
          "name": "stdout",
          "output_type": "stream",
          "text": [
            "Precisión del modelo:\n",
            "0.7518796992481203\n"
          ]
        }
      ],
      "source": [
        "#Calculo la precisión del modelo\n",
        "from sklearn.metrics import precision_score\n",
        "\n",
        "precision = precision_score(y_test, y_pred_over_sampling, average=\"binary\", pos_label=\"Astro\")\n",
        "print('Precisión del modelo:')\n",
        "print(precision)"
      ]
    },
    {
      "cell_type": "code",
      "execution_count": 59,
      "metadata": {},
      "outputs": [
        {
          "name": "stdout",
          "output_type": "stream",
          "text": [
            "Exactitud del modelo:\n",
            "0.5028409090909091\n"
          ]
        }
      ],
      "source": [
        "#Calculo la exactitud del modelo\n",
        "from sklearn.metrics import accuracy_score\n",
        "\n",
        "exactitud = accuracy_score(y_test, y_pred_over_sampling)\n",
        "print('Exactitud del modelo:')\n",
        "print(exactitud)"
      ]
    },
    {
      "cell_type": "code",
      "execution_count": 60,
      "metadata": {},
      "outputs": [
        {
          "name": "stdout",
          "output_type": "stream",
          "text": [
            "Sensibilidad del modelo:\n",
            "0.34995625546806647\n"
          ]
        }
      ],
      "source": [
        "#Calculo la sensibilidad del modelo\n",
        "from sklearn.metrics import recall_score\n",
        "\n",
        "sensibilidad = recall_score(y_test, y_pred_over_sampling, average=\"binary\", pos_label=\"Astro\")\n",
        "print('Sensibilidad del modelo:')\n",
        "print(sensibilidad)"
      ]
    }
  ],
  "metadata": {
    "colab": {
      "authorship_tag": "ABX9TyNKtew5CuhPLFGDGfhs25px",
      "include_colab_link": true,
      "provenance": []
    },
    "kernelspec": {
      "display_name": "Python 3",
      "name": "python3"
    },
    "language_info": {
      "codemirror_mode": {
        "name": "ipython",
        "version": 3
      },
      "file_extension": ".py",
      "mimetype": "text/x-python",
      "name": "python",
      "nbconvert_exporter": "python",
      "pygments_lexer": "ipython3",
      "version": "3.13.4"
    }
  },
  "nbformat": 4,
  "nbformat_minor": 0
}
